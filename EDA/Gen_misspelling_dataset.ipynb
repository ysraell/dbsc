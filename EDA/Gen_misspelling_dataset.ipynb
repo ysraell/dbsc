{
 "cells": [
  {
   "cell_type": "markdown",
   "metadata": {},
   "source": [
    "# Template \n",
    "\n",
    "- Author: Israel Oliveira [\\[e-mail\\]](mailto:'Israel%20Oliveira%20'<prof.israel@gmail.com>)"
   ]
  },
  {
   "cell_type": "code",
   "execution_count": 1,
   "metadata": {
    "execution": {
     "iopub.execute_input": "2021-02-04T13:17:16.717273Z",
     "iopub.status.busy": "2021-02-04T13:17:16.716797Z",
     "iopub.status.idle": "2021-02-04T13:17:16.757611Z",
     "shell.execute_reply": "2021-02-04T13:17:16.756501Z",
     "shell.execute_reply.started": "2021-02-04T13:17:16.717230Z"
    }
   },
   "outputs": [],
   "source": [
    "%load_ext watermark\n",
    "%config Completer.use_jedi = False"
   ]
  },
  {
   "cell_type": "code",
   "execution_count": 2,
   "metadata": {
    "execution": {
     "iopub.execute_input": "2021-02-04T13:17:16.949611Z",
     "iopub.status.busy": "2021-02-04T13:17:16.949141Z",
     "iopub.status.idle": "2021-02-04T13:17:16.967575Z",
     "shell.execute_reply": "2021-02-04T13:17:16.966475Z",
     "shell.execute_reply.started": "2021-02-04T13:17:16.949571Z"
    }
   },
   "outputs": [],
   "source": [
    "import pandas as pd\n",
    "import json\n",
    "import string\n",
    "from random import shuffle, choice\n",
    "from collections import defaultdict\n",
    "from tqdm import tqdm"
   ]
  },
  {
   "cell_type": "code",
   "execution_count": 31,
   "metadata": {
    "execution": {
     "iopub.execute_input": "2021-02-04T13:31:52.689530Z",
     "iopub.status.busy": "2021-02-04T13:31:52.688793Z",
     "iopub.status.idle": "2021-02-04T13:31:52.696647Z",
     "shell.execute_reply": "2021-02-04T13:31:52.695534Z",
     "shell.execute_reply.started": "2021-02-04T13:31:52.689441Z"
    }
   },
   "outputs": [],
   "source": [
    "#import matplotlib.pyplot as plt\n",
    "#%matplotlib inline\n",
    "#from IPython.core.pylabtools import figsize\n",
    "#figsize(12, 8)\n",
    "\n",
    "#import seaborn as sns\n",
    "#sns.set_theme()\n",
    "\n",
    "#pd.set_option(\"max_columns\", None)\n",
    "#pd.set_option(\"max_rows\", None)\n",
    "\n",
    "#from IPython.display import Markdown, display\n",
    "#def md(arg):\n",
    "#    display(Markdown(arg))\n",
    "\n",
    "#from pandas_profiling import ProfileReport\n",
    "# report = ProfileReport(#DataFrame here#, minimal=True)\n",
    "# report.to\n",
    "\n",
    "#import pyarrow.parquet as pq\n",
    "# df = pq.ParquetDataset(path_to_folder_with_parquets, filesystem=None).read_pandas().to_pandas()\n",
    "\n",
    "def open_file_json(path,mode='r',var=None):\n",
    "    if mode == 'w':\n",
    "        with open(path,'w') as f:\n",
    "            json.dump(var, f)\n",
    "    if mode == 'r':\n",
    "        with open(path,'r') as f:\n",
    "            return json.load(f)"
   ]
  },
  {
   "cell_type": "code",
   "execution_count": 4,
   "metadata": {
    "execution": {
     "iopub.execute_input": "2021-02-04T13:17:17.816351Z",
     "iopub.status.busy": "2021-02-04T13:17:17.815776Z",
     "iopub.status.idle": "2021-02-04T13:17:19.291500Z",
     "shell.execute_reply": "2021-02-04T13:17:19.290269Z",
     "shell.execute_reply.started": "2021-02-04T13:17:17.816289Z"
    }
   },
   "outputs": [
    {
     "name": "stdout",
     "output_type": "stream",
     "text": [
      "Python implementation: CPython\n",
      "Python version       : 3.7.9\n",
      "IPython version      : 7.19.0\n",
      "\n",
      "Compiler    : GCC 8.3.0\n",
      "OS          : Linux\n",
      "Release     : 5.8.0-7630-generic\n",
      "Machine     : x86_64\n",
      "Processor   : \n",
      "CPU cores   : 8\n",
      "Architecture: 64bit\n",
      "\n",
      "Git hash: 41c3f22bd226eb30eeb65c336737ed847a60a502\n",
      "\n",
      "Git repo: https://github.com/ysraell/dbsc.git\n",
      "\n",
      "Git branch: main\n",
      "\n",
      "pandas    : 1.2.1\n",
      "sys       : 3.7.9 (default, Jan 12 2021, 17:26:22) \n",
      "[GCC 8.3.0]\n",
      "ipywidgets: 7.6.3\n",
      "numpy     : 1.19.5\n",
      "json      : 2.0.9\n",
      "\n",
      "CPU\t: Intel(R) Xeon(R) CPU E3-1241 v3 @ 3.50GHz\n",
      "Mem:           31G\n",
      "Swap:         4.0G\n"
     ]
    }
   ],
   "source": [
    "# Run this cell before close.\n",
    "%watermark -d --iversion -b -r -g -m -v\n",
    "!cat /proc/cpuinfo |grep 'model name'|head -n 1 |sed -e 's/model\\ name/CPU/'\n",
    "!free -h |cut -d'i' -f1  |grep -v total"
   ]
  },
  {
   "cell_type": "code",
   "execution_count": 5,
   "metadata": {
    "execution": {
     "iopub.execute_input": "2021-02-04T13:17:19.304035Z",
     "iopub.status.busy": "2021-02-04T13:17:19.303120Z",
     "iopub.status.idle": "2021-02-04T13:17:19.318324Z",
     "shell.execute_reply": "2021-02-04T13:17:19.317036Z",
     "shell.execute_reply.started": "2021-02-04T13:17:19.303983Z"
    }
   },
   "outputs": [],
   "source": [
    "letters = string.ascii_lowercase\n",
    "\n",
    "def change_1st2nd(x,N):\n",
    "    return x[:2][::-1]+x[3:]\n",
    "\n",
    "def shuffle_Nth(x,N):\n",
    "    y = list(x[:N])\n",
    "    shuffle(y)\n",
    "    return ''.join(y+[x[N:]])\n",
    "\n",
    "def eat_Nth(x,N):\n",
    "    return x.replace(choice(x[:N]),'',1)\n",
    "\n",
    "def change_Nth(x,N):\n",
    "    return x.replace(choice(x[:N]),choice(letters),1)\n",
    "\n",
    "def duplicate_Nth(x,N):\n",
    "    l = choice(x[:N])\n",
    "    return x.replace(l,l+l,1)\n",
    "\n",
    "func_misspeling = [change_1st2nd, shuffle_Nth, eat_Nth, change_Nth, duplicate_Nth]"
   ]
  },
  {
   "cell_type": "code",
   "execution_count": 6,
   "metadata": {
    "execution": {
     "iopub.execute_input": "2021-02-04T13:17:19.321014Z",
     "iopub.status.busy": "2021-02-04T13:17:19.320074Z",
     "iopub.status.idle": "2021-02-04T13:17:19.334805Z",
     "shell.execute_reply": "2021-02-04T13:17:19.333636Z",
     "shell.execute_reply.started": "2021-02-04T13:17:19.320957Z"
    }
   },
   "outputs": [],
   "source": [
    "#with open('../data/token2term.json','r') as f:\n",
    "#    dict_token2term = json.load(f)\n",
    "\n",
    "#dict_token2misspeled = defaultdict(list)\n",
    "#for token in tqdm(dict_token2term.keys()):\n",
    "#    if len(token) <= 2:\n",
    "#        continue\n",
    "#    for F in func_misspeling:\n",
    "#        dict_token2misspeled[token].append(F(token,len(token)))\n",
    "\n",
    "#print(len(dict_token2misspeled))"
   ]
  },
  {
   "cell_type": "code",
   "execution_count": 7,
   "metadata": {
    "execution": {
     "iopub.execute_input": "2021-02-04T13:17:19.459212Z",
     "iopub.status.busy": "2021-02-04T13:17:19.458709Z",
     "iopub.status.idle": "2021-02-04T13:17:20.188425Z",
     "shell.execute_reply": "2021-02-04T13:17:20.186900Z",
     "shell.execute_reply.started": "2021-02-04T13:17:19.459169Z"
    }
   },
   "outputs": [
    {
     "name": "stdout",
     "output_type": "stream",
     "text": [
      "actor2id.json  id2movie.json  movie_actor.csv  token2term.json\n",
      "casts.csv      movie2id.json  term2token.json\n"
     ]
    }
   ],
   "source": [
    "!ls ../data"
   ]
  },
  {
   "cell_type": "code",
   "execution_count": 32,
   "metadata": {
    "execution": {
     "iopub.execute_input": "2021-02-04T13:32:13.832350Z",
     "iopub.status.busy": "2021-02-04T13:32:13.831883Z",
     "iopub.status.idle": "2021-02-04T13:32:13.879907Z",
     "shell.execute_reply": "2021-02-04T13:32:13.878742Z",
     "shell.execute_reply.started": "2021-02-04T13:32:13.832308Z"
    }
   },
   "outputs": [],
   "source": [
    "dict_term2token = open_file_json('../data/term2token.json','r')    "
   ]
  },
  {
   "cell_type": "code",
   "execution_count": 33,
   "metadata": {
    "execution": {
     "iopub.execute_input": "2021-02-04T13:32:17.059182Z",
     "iopub.status.busy": "2021-02-04T13:32:17.058725Z",
     "iopub.status.idle": "2021-02-04T13:32:19.698670Z",
     "shell.execute_reply": "2021-02-04T13:32:19.697517Z",
     "shell.execute_reply.started": "2021-02-04T13:32:17.059127Z"
    }
   },
   "outputs": [
    {
     "name": "stderr",
     "output_type": "stream",
     "text": [
      "100%|██████████| 25217/25217 [00:02<00:00, 9613.15it/s] \n"
     ]
    }
   ],
   "source": [
    "dict_true2misspeled = defaultdict(list)\n",
    "used = set()\n",
    "for tk_list in tqdm(dict_term2token.values()):\n",
    "    tmp_list = []\n",
    "    final_list = []\n",
    "    while tk_list:\n",
    "        tmp_list.append(tk_list.pop(0))\n",
    "        true_term = ' '.join(tmp_list)\n",
    "        if true_term in used:\n",
    "            continue\n",
    "        used.add(true_term)\n",
    "        #Polemic!!\n",
    "        final_list.append(true_term)\n",
    "        if len(tmp_list) > 1:\n",
    "            final_list.append(''.join(tmp_list))\n",
    "        for F in func_misspeling:\n",
    "            tmp_miss_list = []\n",
    "            for token in tmp_list:\n",
    "                tmp_miss_list.append(F(token,len(token)) if len(token) > 2 else token)\n",
    "            final_list.append(' '.join(tmp_miss_list))\n",
    "        dict_true2misspeled[true_term].extend(list(set(final_list)))"
   ]
  },
  {
   "cell_type": "code",
   "execution_count": 34,
   "metadata": {
    "execution": {
     "iopub.execute_input": "2021-02-04T13:33:01.190885Z",
     "iopub.status.busy": "2021-02-04T13:33:01.190396Z",
     "iopub.status.idle": "2021-02-04T13:33:01.907639Z",
     "shell.execute_reply": "2021-02-04T13:33:01.906529Z",
     "shell.execute_reply.started": "2021-02-04T13:33:01.190846Z"
    }
   },
   "outputs": [],
   "source": [
    "open_file_json('../data/true2misspeled.json','w',dict_true2misspeled)    "
   ]
  },
  {
   "cell_type": "code",
   "execution_count": null,
   "metadata": {},
   "outputs": [],
   "source": []
  }
 ],
 "metadata": {
  "kernelspec": {
   "display_name": "Python 3",
   "language": "python",
   "name": "python3"
  },
  "language_info": {
   "codemirror_mode": {
    "name": "ipython",
    "version": 3
   },
   "file_extension": ".py",
   "mimetype": "text/x-python",
   "name": "python",
   "nbconvert_exporter": "python",
   "pygments_lexer": "ipython3",
   "version": "3.7.9"
  }
 },
 "nbformat": 4,
 "nbformat_minor": 4
}
