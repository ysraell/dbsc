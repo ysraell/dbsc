{
 "cells": [
  {
   "cell_type": "markdown",
   "metadata": {},
   "source": [
    "# 1st View of dataset. \n",
    "\n",
    "- Author: Israel Oliveira [\\[e-mail\\]](mailto:'Israel%20Oliveira%20'<prof.israel@gmail.com>)"
   ]
  },
  {
   "cell_type": "code",
   "execution_count": 1,
   "metadata": {
    "execution": {
     "iopub.execute_input": "2021-02-02T18:12:38.332777Z",
     "iopub.status.busy": "2021-02-02T18:12:38.332241Z",
     "iopub.status.idle": "2021-02-02T18:12:38.366712Z",
     "shell.execute_reply": "2021-02-02T18:12:38.365448Z",
     "shell.execute_reply.started": "2021-02-02T18:12:38.332722Z"
    }
   },
   "outputs": [],
   "source": [
    "%load_ext watermark\n",
    "%config Completer.use_jedi = False"
   ]
  },
  {
   "cell_type": "code",
   "execution_count": 2,
   "metadata": {
    "execution": {
     "iopub.execute_input": "2021-02-02T18:12:38.494273Z",
     "iopub.status.busy": "2021-02-02T18:12:38.493647Z",
     "iopub.status.idle": "2021-02-02T18:12:38.500011Z",
     "shell.execute_reply": "2021-02-02T18:12:38.498939Z",
     "shell.execute_reply.started": "2021-02-02T18:12:38.494222Z"
    }
   },
   "outputs": [],
   "source": [
    "import pandas as pd"
   ]
  },
  {
   "cell_type": "code",
   "execution_count": 3,
   "metadata": {
    "execution": {
     "iopub.execute_input": "2021-02-02T18:12:38.703073Z",
     "iopub.status.busy": "2021-02-02T18:12:38.702548Z",
     "iopub.status.idle": "2021-02-02T18:12:38.707535Z",
     "shell.execute_reply": "2021-02-02T18:12:38.706731Z",
     "shell.execute_reply.started": "2021-02-02T18:12:38.703020Z"
    }
   },
   "outputs": [],
   "source": [
    "#import matplotlib.pyplot as plt\n",
    "#%matplotlib inline\n",
    "#from IPython.core.pylabtools import figsize\n",
    "#figsize(12, 8)\n",
    "\n",
    "#import seaborn as sns\n",
    "#sns.set_theme()\n",
    "\n",
    "#pd.set_option(\"max_columns\", None)\n",
    "#pd.set_option(\"max_rows\", None)\n",
    "\n",
    "#from IPython.display import Markdown, display\n",
    "#def md(arg):\n",
    "#    display(Markdown(arg))\n",
    "\n",
    "#from pandas_profiling import ProfileReport\n",
    "# report = ProfileReport(#DataFrame here#, minimal=True)\n",
    "# report.to\n",
    "\n",
    "#import pyarrow.parquet as pq\n",
    "# df = pq.ParquetDataset(path_to_folder_with_parquets, filesystem=None).read_pandas().to_pandas()"
   ]
  },
  {
   "cell_type": "code",
   "execution_count": 4,
   "metadata": {
    "execution": {
     "iopub.execute_input": "2021-02-02T18:12:39.616430Z",
     "iopub.status.busy": "2021-02-02T18:12:39.615806Z",
     "iopub.status.idle": "2021-02-02T18:12:40.847013Z",
     "shell.execute_reply": "2021-02-02T18:12:40.844588Z",
     "shell.execute_reply.started": "2021-02-02T18:12:39.616366Z"
    }
   },
   "outputs": [
    {
     "name": "stdout",
     "output_type": "stream",
     "text": [
      "Python implementation: CPython\n",
      "Python version       : 3.7.9\n",
      "IPython version      : 7.19.0\n",
      "\n",
      "Compiler    : GCC 8.3.0\n",
      "OS          : Linux\n",
      "Release     : 5.8.0-7630-generic\n",
      "Machine     : x86_64\n",
      "Processor   : \n",
      "CPU cores   : 8\n",
      "Architecture: 64bit\n",
      "\n",
      "Git hash: 1f1fb0a39af877f76c3c65a57dd36db29f6b1860\n",
      "\n",
      "Git repo: https://github.com/ysraell/dbsc.git\n",
      "\n",
      "Git branch: main\n",
      "\n",
      "sys       : 3.7.9 (default, Jan 12 2021, 17:26:22) \n",
      "[GCC 8.3.0]\n",
      "ipywidgets: 7.6.3\n",
      "numpy     : 1.19.5\n",
      "pandas    : 1.2.1\n",
      "json      : 2.0.9\n",
      "\n",
      "CPU\t: Intel(R) Xeon(R) CPU E3-1241 v3 @ 3.50GHz\n",
      "Mem:           31G\n",
      "Swap:         4.0G\n"
     ]
    }
   ],
   "source": [
    "# Run this cell before close.\n",
    "%watermark -d --iversion -b -r -g -m -v\n",
    "!cat /proc/cpuinfo |grep 'model name'|head -n 1 |sed -e 's/model\\ name/CPU/'\n",
    "!free -h |cut -d'i' -f1  |grep -v total"
   ]
  },
  {
   "cell_type": "code",
   "execution_count": 5,
   "metadata": {
    "execution": {
     "iopub.execute_input": "2021-02-02T18:12:40.859358Z",
     "iopub.status.busy": "2021-02-02T18:12:40.858987Z",
     "iopub.status.idle": "2021-02-02T18:12:41.440334Z",
     "shell.execute_reply": "2021-02-02T18:12:41.438427Z",
     "shell.execute_reply.started": "2021-02-02T18:12:40.859321Z"
    }
   },
   "outputs": [
    {
     "name": "stdout",
     "output_type": "stream",
     "text": [
      "casts.csv\n"
     ]
    }
   ],
   "source": [
    "!ls ../data/"
   ]
  },
  {
   "cell_type": "code",
   "execution_count": 6,
   "metadata": {
    "execution": {
     "iopub.execute_input": "2021-02-02T18:12:41.452443Z",
     "iopub.status.busy": "2021-02-02T18:12:41.452074Z",
     "iopub.status.idle": "2021-02-02T18:12:42.029579Z",
     "shell.execute_reply": "2021-02-02T18:12:42.028424Z",
     "shell.execute_reply.started": "2021-02-02T18:12:41.452406Z"
    }
   },
   "outputs": [
    {
     "name": "stdout",
     "output_type": "stream",
     "text": [
      "\"AA13\";\"Pygmalion\";\"Leslie Howard\";\"Sci\";\"R:smug professor \"\"Higgins\"\"\"\n",
      "\"AA13\";\"Pygmalion\";\"Wendy Hiller\";\"Inn\";\"R:flower girl \"\"Eliza\"\"\"\n",
      "\"AA13\";\"Pygmalion\";\"Wilfrid Lawson\";\"Und\";\"R:friend \"\"Dolittle\"\"\"\n"
     ]
    }
   ],
   "source": [
    "!head -n 3 ../data/casts.csv"
   ]
  },
  {
   "cell_type": "code",
   "execution_count": 11,
   "metadata": {
    "execution": {
     "iopub.execute_input": "2021-02-02T18:13:47.142189Z",
     "iopub.status.busy": "2021-02-02T18:13:47.141870Z",
     "iopub.status.idle": "2021-02-02T18:13:47.196447Z",
     "shell.execute_reply": "2021-02-02T18:13:47.195790Z",
     "shell.execute_reply.started": "2021-02-02T18:13:47.142149Z"
    }
   },
   "outputs": [],
   "source": [
    "load_csv = lambda x: pd.read_csv(f'../data/{x}.csv', sep=';',header=None, usecols=[1, 2])\n",
    "df_casts = load_csv('casts')"
   ]
  },
  {
   "cell_type": "code",
   "execution_count": 12,
   "metadata": {
    "execution": {
     "iopub.execute_input": "2021-02-02T18:13:47.304607Z",
     "iopub.status.busy": "2021-02-02T18:13:47.304250Z",
     "iopub.status.idle": "2021-02-02T18:13:47.313188Z",
     "shell.execute_reply": "2021-02-02T18:13:47.312434Z",
     "shell.execute_reply.started": "2021-02-02T18:13:47.304571Z"
    }
   },
   "outputs": [
    {
     "data": {
      "text/html": [
       "<div>\n",
       "<style scoped>\n",
       "    .dataframe tbody tr th:only-of-type {\n",
       "        vertical-align: middle;\n",
       "    }\n",
       "\n",
       "    .dataframe tbody tr th {\n",
       "        vertical-align: top;\n",
       "    }\n",
       "\n",
       "    .dataframe thead th {\n",
       "        text-align: right;\n",
       "    }\n",
       "</style>\n",
       "<table border=\"1\" class=\"dataframe\">\n",
       "  <thead>\n",
       "    <tr style=\"text-align: right;\">\n",
       "      <th></th>\n",
       "      <th>1</th>\n",
       "      <th>2</th>\n",
       "    </tr>\n",
       "  </thead>\n",
       "  <tbody>\n",
       "    <tr>\n",
       "      <th>0</th>\n",
       "      <td>Pygmalion</td>\n",
       "      <td>Leslie Howard</td>\n",
       "    </tr>\n",
       "    <tr>\n",
       "      <th>1</th>\n",
       "      <td>Pygmalion</td>\n",
       "      <td>Wendy Hiller</td>\n",
       "    </tr>\n",
       "    <tr>\n",
       "      <th>2</th>\n",
       "      <td>Pygmalion</td>\n",
       "      <td>Wilfrid Lawson</td>\n",
       "    </tr>\n",
       "  </tbody>\n",
       "</table>\n",
       "</div>"
      ],
      "text/plain": [
       "           1               2\n",
       "0  Pygmalion   Leslie Howard\n",
       "1  Pygmalion    Wendy Hiller\n",
       "2  Pygmalion  Wilfrid Lawson"
      ]
     },
     "execution_count": 12,
     "metadata": {},
     "output_type": "execute_result"
    }
   ],
   "source": [
    "df_casts.head(3)"
   ]
  },
  {
   "cell_type": "code",
   "execution_count": 13,
   "metadata": {
    "execution": {
     "iopub.execute_input": "2021-02-02T18:13:48.132533Z",
     "iopub.status.busy": "2021-02-02T18:13:48.132051Z",
     "iopub.status.idle": "2021-02-02T18:13:48.137335Z",
     "shell.execute_reply": "2021-02-02T18:13:48.136336Z",
     "shell.execute_reply.started": "2021-02-02T18:13:48.132485Z"
    }
   },
   "outputs": [],
   "source": [
    "df_casts.columns = ['Movie', 'Actor']"
   ]
  },
  {
   "cell_type": "code",
   "execution_count": 14,
   "metadata": {
    "execution": {
     "iopub.execute_input": "2021-02-02T18:13:51.123318Z",
     "iopub.status.busy": "2021-02-02T18:13:51.122754Z",
     "iopub.status.idle": "2021-02-02T18:13:51.132301Z",
     "shell.execute_reply": "2021-02-02T18:13:51.131463Z",
     "shell.execute_reply.started": "2021-02-02T18:13:51.123268Z"
    }
   },
   "outputs": [
    {
     "data": {
      "text/html": [
       "<div>\n",
       "<style scoped>\n",
       "    .dataframe tbody tr th:only-of-type {\n",
       "        vertical-align: middle;\n",
       "    }\n",
       "\n",
       "    .dataframe tbody tr th {\n",
       "        vertical-align: top;\n",
       "    }\n",
       "\n",
       "    .dataframe thead th {\n",
       "        text-align: right;\n",
       "    }\n",
       "</style>\n",
       "<table border=\"1\" class=\"dataframe\">\n",
       "  <thead>\n",
       "    <tr style=\"text-align: right;\">\n",
       "      <th></th>\n",
       "      <th>Movie</th>\n",
       "      <th>Actor</th>\n",
       "    </tr>\n",
       "  </thead>\n",
       "  <tbody>\n",
       "    <tr>\n",
       "      <th>0</th>\n",
       "      <td>Pygmalion</td>\n",
       "      <td>Leslie Howard</td>\n",
       "    </tr>\n",
       "    <tr>\n",
       "      <th>1</th>\n",
       "      <td>Pygmalion</td>\n",
       "      <td>Wendy Hiller</td>\n",
       "    </tr>\n",
       "    <tr>\n",
       "      <th>2</th>\n",
       "      <td>Pygmalion</td>\n",
       "      <td>Wilfrid Lawson</td>\n",
       "    </tr>\n",
       "  </tbody>\n",
       "</table>\n",
       "</div>"
      ],
      "text/plain": [
       "       Movie           Actor\n",
       "0  Pygmalion   Leslie Howard\n",
       "1  Pygmalion    Wendy Hiller\n",
       "2  Pygmalion  Wilfrid Lawson"
      ]
     },
     "execution_count": 14,
     "metadata": {},
     "output_type": "execute_result"
    }
   ],
   "source": [
    "df_casts.head(3)"
   ]
  },
  {
   "cell_type": "code",
   "execution_count": 16,
   "metadata": {
    "execution": {
     "iopub.execute_input": "2021-02-02T18:19:06.428582Z",
     "iopub.status.busy": "2021-02-02T18:19:06.427920Z",
     "iopub.status.idle": "2021-02-02T18:19:06.435441Z",
     "shell.execute_reply": "2021-02-02T18:19:06.434646Z",
     "shell.execute_reply.started": "2021-02-02T18:19:06.428518Z"
    }
   },
   "outputs": [
    {
     "data": {
      "text/plain": [
       "(46233, 2)"
      ]
     },
     "execution_count": 16,
     "metadata": {},
     "output_type": "execute_result"
    }
   ],
   "source": [
    "df_casts.shape"
   ]
  },
  {
   "cell_type": "code",
   "execution_count": 17,
   "metadata": {
    "execution": {
     "iopub.execute_input": "2021-02-02T18:19:18.237335Z",
     "iopub.status.busy": "2021-02-02T18:19:18.236586Z",
     "iopub.status.idle": "2021-02-02T18:19:18.257111Z",
     "shell.execute_reply": "2021-02-02T18:19:18.256138Z",
     "shell.execute_reply.started": "2021-02-02T18:19:18.237275Z"
    }
   },
   "outputs": [
    {
     "data": {
      "text/plain": [
       "(45010, 2)"
      ]
     },
     "execution_count": 17,
     "metadata": {},
     "output_type": "execute_result"
    }
   ],
   "source": [
    "df_casts.drop_duplicates().shape"
   ]
  },
  {
   "cell_type": "code",
   "execution_count": 21,
   "metadata": {
    "execution": {
     "iopub.execute_input": "2021-02-02T18:24:30.839761Z",
     "iopub.status.busy": "2021-02-02T18:24:30.839445Z",
     "iopub.status.idle": "2021-02-02T18:24:30.929618Z",
     "shell.execute_reply": "2021-02-02T18:24:30.928907Z",
     "shell.execute_reply.started": "2021-02-02T18:24:30.839734Z"
    }
   },
   "outputs": [],
   "source": [
    "df_casts.drop_duplicates().reset_index(drop=True).to_csv('../data/movie_actor.csv', index=False)"
   ]
  },
  {
   "cell_type": "code",
   "execution_count": 22,
   "metadata": {
    "execution": {
     "iopub.execute_input": "2021-02-02T18:24:32.169454Z",
     "iopub.status.busy": "2021-02-02T18:24:32.168924Z",
     "iopub.status.idle": "2021-02-02T18:24:32.741216Z",
     "shell.execute_reply": "2021-02-02T18:24:32.740321Z",
     "shell.execute_reply.started": "2021-02-02T18:24:32.169400Z"
    }
   },
   "outputs": [
    {
     "name": "stdout",
     "output_type": "stream",
     "text": [
      "45011 ../data/movie_actor.csv\n"
     ]
    }
   ],
   "source": [
    "!wc -l ../data/movie_actor.csv"
   ]
  },
  {
   "cell_type": "code",
   "execution_count": 20,
   "metadata": {
    "execution": {
     "iopub.execute_input": "2021-02-02T18:19:37.406656Z",
     "iopub.status.busy": "2021-02-02T18:19:37.405918Z",
     "iopub.status.idle": "2021-02-02T18:19:37.973780Z",
     "shell.execute_reply": "2021-02-02T18:19:37.972395Z",
     "shell.execute_reply.started": "2021-02-02T18:19:37.406575Z"
    }
   },
   "outputs": [
    {
     "name": "stdout",
     "output_type": "stream",
     "text": [
      ",Movie,Actor\n",
      "0,Pygmalion,Leslie Howard\n",
      "1,Pygmalion,Wendy Hiller\n",
      "2,Pygmalion,Wilfrid Lawson\n",
      "3,Pygmalion,Scott Sunderland\n",
      "4,Pygmalion,Marie Lohr\n",
      "5,Pygmalion,David Tree\n",
      "6,Pygmalion,Esme Percy\n",
      "7,Pygmalion,Everley Gregg\n",
      "8,Pygmalion,Jean Cadell\n"
     ]
    }
   ],
   "source": [
    "!head ../data/movie_actor.csv"
   ]
  },
  {
   "cell_type": "code",
   "execution_count": null,
   "metadata": {},
   "outputs": [],
   "source": []
  }
 ],
 "metadata": {
  "kernelspec": {
   "display_name": "Python 3",
   "language": "python",
   "name": "python3"
  },
  "language_info": {
   "codemirror_mode": {
    "name": "ipython",
    "version": 3
   },
   "file_extension": ".py",
   "mimetype": "text/x-python",
   "name": "python",
   "nbconvert_exporter": "python",
   "pygments_lexer": "ipython3",
   "version": "3.7.9"
  }
 },
 "nbformat": 4,
 "nbformat_minor": 4
}
