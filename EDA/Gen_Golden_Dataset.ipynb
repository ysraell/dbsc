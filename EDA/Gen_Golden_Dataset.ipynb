{
 "cells": [
  {
   "cell_type": "markdown",
   "metadata": {},
   "source": [
    "# Template \n",
    "\n",
    "- Author: Israel Oliveira [\\[e-mail\\]](mailto:'Israel%20Oliveira%20'<prof.israel@gmail.com>)"
   ]
  },
  {
   "cell_type": "code",
   "execution_count": 2,
   "metadata": {
    "execution": {
     "iopub.execute_input": "2021-02-04T12:36:02.298728Z",
     "iopub.status.busy": "2021-02-04T12:36:02.298259Z",
     "iopub.status.idle": "2021-02-04T12:36:02.340799Z",
     "shell.execute_reply": "2021-02-04T12:36:02.339689Z",
     "shell.execute_reply.started": "2021-02-04T12:36:02.298683Z"
    }
   },
   "outputs": [],
   "source": [
    "%load_ext watermark\n",
    "%config Completer.use_jedi = False"
   ]
  },
  {
   "cell_type": "code",
   "execution_count": 20,
   "metadata": {
    "execution": {
     "iopub.execute_input": "2021-02-04T13:01:27.311454Z",
     "iopub.status.busy": "2021-02-04T13:01:27.310978Z",
     "iopub.status.idle": "2021-02-04T13:01:27.317150Z",
     "shell.execute_reply": "2021-02-04T13:01:27.316097Z",
     "shell.execute_reply.started": "2021-02-04T13:01:27.311410Z"
    }
   },
   "outputs": [],
   "source": [
    "import re\n",
    "import nltk\n",
    "import string\n",
    "from nltk.corpus import stopwords\n",
    "from nltk.tokenize import TreebankWordTokenizer\n",
    "tokenizer = TreebankWordTokenizer()\n",
    "\n",
    "import pandas as pd\n",
    "import json"
   ]
  },
  {
   "cell_type": "code",
   "execution_count": 21,
   "metadata": {
    "execution": {
     "iopub.execute_input": "2021-02-04T13:01:29.526364Z",
     "iopub.status.busy": "2021-02-04T13:01:29.525790Z",
     "iopub.status.idle": "2021-02-04T13:01:31.030718Z",
     "shell.execute_reply": "2021-02-04T13:01:31.029561Z",
     "shell.execute_reply.started": "2021-02-04T13:01:29.526285Z"
    }
   },
   "outputs": [
    {
     "name": "stdout",
     "output_type": "stream",
     "text": [
      "Python implementation: CPython\n",
      "Python version       : 3.7.9\n",
      "IPython version      : 7.19.0\n",
      "\n",
      "Compiler    : GCC 8.3.0\n",
      "OS          : Linux\n",
      "Release     : 5.8.0-7630-generic\n",
      "Machine     : x86_64\n",
      "Processor   : \n",
      "CPU cores   : 8\n",
      "Architecture: 64bit\n",
      "\n",
      "Git hash: 41c3f22bd226eb30eeb65c336737ed847a60a502\n",
      "\n",
      "Git repo: https://github.com/ysraell/dbsc.git\n",
      "\n",
      "Git branch: main\n",
      "\n",
      "ipywidgets: 7.6.3\n",
      "gensim    : 3.8.3\n",
      "nltk      : 3.5\n",
      "json      : 2.0.9\n",
      "sys       : 3.7.9 (default, Jan 12 2021, 17:26:22) \n",
      "[GCC 8.3.0]\n",
      "pandas    : 1.2.1\n",
      "re        : 2.2.1\n",
      "numpy     : 1.19.5\n",
      "\n",
      "CPU\t: Intel(R) Xeon(R) CPU E3-1241 v3 @ 3.50GHz\n",
      "Mem:           31G\n",
      "Swap:         4.0G\n"
     ]
    }
   ],
   "source": [
    "# Run this cell before close.\n",
    "%watermark -d --iversion -b -r -g -m -v\n",
    "!cat /proc/cpuinfo |grep 'model name'|head -n 1 |sed -e 's/model\\ name/CPU/'\n",
    "!free -h |cut -d'i' -f1  |grep -v total"
   ]
  },
  {
   "cell_type": "code",
   "execution_count": 82,
   "metadata": {
    "execution": {
     "iopub.execute_input": "2021-02-04T13:28:24.883107Z",
     "iopub.status.busy": "2021-02-04T13:28:24.882658Z",
     "iopub.status.idle": "2021-02-04T13:28:24.918880Z",
     "shell.execute_reply": "2021-02-04T13:28:24.917758Z",
     "shell.execute_reply.started": "2021-02-04T13:28:24.883067Z"
    }
   },
   "outputs": [],
   "source": [
    "def open_file_json(path,mode='r',var=None):\n",
    "    if mode == 'w':\n",
    "        with open(path,'w') as f:\n",
    "            json.dump(var, f)\n",
    "    if mode == 'r':\n",
    "        with open(path,'r') as f:\n",
    "            return json.load(f)\n",
    "\n",
    "def decontracted(phrase):\n",
    "    # specific\n",
    "    phrase = re.sub(r\"won\\'t\", \"will not\", phrase)\n",
    "    phrase = re.sub(r\"can\\'t\", \"can not\", phrase)\n",
    "\n",
    "    # general\n",
    "    phrase = re.sub(r\"n\\'t\", \" not\", phrase)\n",
    "    phrase = re.sub(r\"\\'re\", \" are\", phrase)\n",
    "    phrase = re.sub(r\"\\'s\", \" is\", phrase)\n",
    "    phrase = re.sub(r\"\\'d\", \" would\", phrase)\n",
    "    phrase = re.sub(r\"\\'ll\", \" will\", phrase)\n",
    "    phrase = re.sub(r\"\\'t\", \" not\", phrase)\n",
    "    phrase = re.sub(r\"\\'ve\", \" have\", phrase)\n",
    "    phrase = re.sub(r\"\\'m\", \" am\", phrase)\n",
    "    return phrase\n",
    "\n",
    "def prepr(*args,**kwargs):\n",
    "    return print(repr(*args,**kwargs))\n",
    "\n",
    "def strip_punctuation(s,join_str=''):\n",
    "    return join_str.join(c for c in s if c not in string.punctuation)\n",
    "\n",
    "def special2space(s):\n",
    "    return ''.join([c if c not in punctuation_new else ' ' for c in s ])\n",
    "\n",
    "# contractions remover\n",
    "contractions = re.compile(r\"'|-|\\\"\")\n",
    "# all non alphanumeric\n",
    "symbols = re.compile(r'(\\W+)', re.U)\n",
    "# single character removal\n",
    "singles = re.compile(r'(\\s\\S\\s)', re.I|re.U)\n",
    "# separators (any whitespace)\n",
    "seps = re.compile(r'\\s+')\n",
    "\n",
    "def clean_punkt_singles_contract(text):\n",
    "    # Removing non ASCII chars    \n",
    "    text = re.sub(r'[^\\x00-\\x7f]',r' ',text)\n",
    "    # contractions remover\n",
    "    text = contractions.sub('', text)\n",
    "    # all non alphanumeric\n",
    "    text = symbols.sub(r' \\1 ', text)\n",
    "    # separators (any whitespace)\n",
    "    text = seps.sub(' ', text)\n",
    "    return text\n",
    "\n",
    "def clean_text(text):\n",
    "    ## Remove punktuations and symbols\n",
    "    text = clean_punkt_singles_contract(text)\n",
    "    \n",
    "    '''Remove unwanted characters and extra spaces from the text'''\n",
    "    text = re.sub(\"'s\", '', text) \n",
    "    text = re.sub(r'\\n', ' ', text) \n",
    "    text = re.sub(r'[{}@,:*>()\\\\#%+=\\[\\]]','', text)\n",
    "    text = re.sub('a0','', text)\n",
    "    text = re.sub('\\'92t','\\'t', text)\n",
    "    text = re.sub('\\'92s','\\'s', text)\n",
    "    text = re.sub('\\'92m','\\'m', text)\n",
    "    text = re.sub('\\'92ll','\\'ll', text)\n",
    "    text = re.sub('\\'91','', text)\n",
    "    text = re.sub('\\'92','', text)\n",
    "    text = re.sub('\\'93','', text)\n",
    "    text = re.sub('\\'94','', text)\n",
    "    #text = re.sub('\\.','. ', text)\n",
    "    text = re.sub('\\!','! ', text)\n",
    "    text = re.sub('\\?','? ', text)\n",
    "    text = re.sub(' +',' ', text)\n",
    "    text = re.sub('_',' ', text)\n",
    "    text = re.sub('\\.',' ', text)\n",
    "\n",
    "    return text\n",
    "\n",
    "def proc_text(text, min_size_word = 1):\n",
    "    text = str(text)\n",
    "    text = decontracted(text)\n",
    "    tmp = tokenizer.tokenize(text)\n",
    "    tmp = [w for w in tmp if w not in string.punctuation]\n",
    "    #tmp = [w for w in tmp if w not in stopwords.words('english')]\n",
    "    tmp = [w for w in tmp if len(w)>=min_size_word] \n",
    "    return [word.lower() for word in tmp if any(c.isalpha() for c in word)]"
   ]
  },
  {
   "cell_type": "code",
   "execution_count": 43,
   "metadata": {
    "execution": {
     "iopub.execute_input": "2021-02-04T13:13:21.820513Z",
     "iopub.status.busy": "2021-02-04T13:13:21.820035Z",
     "iopub.status.idle": "2021-02-04T13:13:22.515218Z",
     "shell.execute_reply": "2021-02-04T13:13:22.513896Z",
     "shell.execute_reply.started": "2021-02-04T13:13:21.820470Z"
    }
   },
   "outputs": [
    {
     "name": "stdout",
     "output_type": "stream",
     "text": [
      "actor2id.json  id2movie.json  movie_actor.csv  token2term.json\n",
      "casts.csv      movie2id.json  term2token.json\n"
     ]
    }
   ],
   "source": [
    "!ls ../data/"
   ]
  },
  {
   "cell_type": "code",
   "execution_count": 44,
   "metadata": {
    "execution": {
     "iopub.execute_input": "2021-02-04T13:13:22.907400Z",
     "iopub.status.busy": "2021-02-04T13:13:22.906913Z",
     "iopub.status.idle": "2021-02-04T13:13:22.975699Z",
     "shell.execute_reply": "2021-02-04T13:13:22.974518Z",
     "shell.execute_reply.started": "2021-02-04T13:13:22.907360Z"
    }
   },
   "outputs": [],
   "source": [
    "df_movie_actor = pd.read_csv('../data/movie_actor.csv')"
   ]
  },
  {
   "cell_type": "code",
   "execution_count": 45,
   "metadata": {
    "execution": {
     "iopub.execute_input": "2021-02-04T13:13:23.295073Z",
     "iopub.status.busy": "2021-02-04T13:13:23.294333Z",
     "iopub.status.idle": "2021-02-04T13:13:23.313562Z",
     "shell.execute_reply": "2021-02-04T13:13:23.312206Z",
     "shell.execute_reply.started": "2021-02-04T13:13:23.295017Z"
    }
   },
   "outputs": [],
   "source": [
    "dict_id2movie = df_movie_actor.Movie.drop_duplicates().reset_index(drop=True).to_dict()"
   ]
  },
  {
   "cell_type": "code",
   "execution_count": 46,
   "metadata": {
    "execution": {
     "iopub.execute_input": "2021-02-04T13:13:23.315998Z",
     "iopub.status.busy": "2021-02-04T13:13:23.315415Z",
     "iopub.status.idle": "2021-02-04T13:13:23.327879Z",
     "shell.execute_reply": "2021-02-04T13:13:23.326826Z",
     "shell.execute_reply.started": "2021-02-04T13:13:23.315959Z"
    }
   },
   "outputs": [],
   "source": [
    "dict_movie2id = {m:k for k,m in dict_id2movie.items()}"
   ]
  },
  {
   "cell_type": "code",
   "execution_count": 47,
   "metadata": {
    "execution": {
     "iopub.execute_input": "2021-02-04T13:13:23.968598Z",
     "iopub.status.busy": "2021-02-04T13:13:23.968169Z",
     "iopub.status.idle": "2021-02-04T13:13:23.979785Z",
     "shell.execute_reply": "2021-02-04T13:13:23.978524Z",
     "shell.execute_reply.started": "2021-02-04T13:13:23.968560Z"
    }
   },
   "outputs": [
    {
     "name": "stdout",
     "output_type": "stream",
     "text": [
      "Pygmalion\n",
      "0\n"
     ]
    }
   ],
   "source": [
    "print(dict_id2movie[0])\n",
    "print(dict_movie2id[dict_id2movie[0]])"
   ]
  },
  {
   "cell_type": "code",
   "execution_count": 48,
   "metadata": {
    "execution": {
     "iopub.execute_input": "2021-02-04T13:13:23.982513Z",
     "iopub.status.busy": "2021-02-04T13:13:23.982080Z",
     "iopub.status.idle": "2021-02-04T13:13:24.023401Z",
     "shell.execute_reply": "2021-02-04T13:13:24.022161Z",
     "shell.execute_reply.started": "2021-02-04T13:13:23.982474Z"
    }
   },
   "outputs": [],
   "source": [
    "df_movie_actor['movie_id'] = df_movie_actor.Movie.apply(lambda x: dict_movie2id[x])"
   ]
  },
  {
   "cell_type": "code",
   "execution_count": 49,
   "metadata": {
    "execution": {
     "iopub.execute_input": "2021-02-04T13:13:24.025357Z",
     "iopub.status.busy": "2021-02-04T13:13:24.024832Z",
     "iopub.status.idle": "2021-02-04T13:13:25.034096Z",
     "shell.execute_reply": "2021-02-04T13:13:25.032981Z",
     "shell.execute_reply.started": "2021-02-04T13:13:24.025316Z"
    }
   },
   "outputs": [],
   "source": [
    "dict_actor2movieid = df_movie_actor[['Actor','movie_id']].groupby('Actor').agg(list).to_dict()['movie_id']"
   ]
  },
  {
   "cell_type": "code",
   "execution_count": 83,
   "metadata": {
    "execution": {
     "iopub.execute_input": "2021-02-04T13:29:21.513593Z",
     "iopub.status.busy": "2021-02-04T13:29:21.513139Z",
     "iopub.status.idle": "2021-02-04T13:29:21.749174Z",
     "shell.execute_reply": "2021-02-04T13:29:21.748075Z",
     "shell.execute_reply.started": "2021-02-04T13:29:21.513552Z"
    }
   },
   "outputs": [],
   "source": [
    "open_file_json('../data/id2movie.json','w',dict_id2movie)\n",
    "open_file_json('../data/movie2id.json','w',dict_movie2id)\n",
    "open_file_json('../data/actor2id.json','w',dict_actor2movieid)"
   ]
  },
  {
   "cell_type": "code",
   "execution_count": 72,
   "metadata": {
    "execution": {
     "iopub.execute_input": "2021-02-04T13:16:44.081491Z",
     "iopub.status.busy": "2021-02-04T13:16:44.080911Z",
     "iopub.status.idle": "2021-02-04T13:16:44.107042Z",
     "shell.execute_reply": "2021-02-04T13:16:44.106052Z",
     "shell.execute_reply.started": "2021-02-04T13:16:44.081449Z"
    }
   },
   "outputs": [],
   "source": [
    "terms = df_movie_actor.Movie.drop_duplicates().tolist() + df_movie_actor.Actor.drop_duplicates().tolist()\n",
    "terms = list(map(str,terms))"
   ]
  },
  {
   "cell_type": "code",
   "execution_count": 74,
   "metadata": {
    "execution": {
     "iopub.execute_input": "2021-02-04T13:16:47.716325Z",
     "iopub.status.busy": "2021-02-04T13:16:47.715768Z",
     "iopub.status.idle": "2021-02-04T13:16:51.020197Z",
     "shell.execute_reply": "2021-02-04T13:16:51.019022Z",
     "shell.execute_reply.started": "2021-02-04T13:16:47.716236Z"
    }
   },
   "outputs": [],
   "source": [
    "df_dataset = pd.DataFrame(zip(terms,map(proc_text,terms)),columns=['golden_terms','golden_tokens'])\n",
    "df_dataset = df_dataset.loc[df_dataset.golden_tokens.apply(lambda x: x != [])].reset_index(drop=True)"
   ]
  },
  {
   "cell_type": "code",
   "execution_count": 75,
   "metadata": {
    "execution": {
     "iopub.execute_input": "2021-02-04T13:16:51.225138Z",
     "iopub.status.busy": "2021-02-04T13:16:51.224700Z",
     "iopub.status.idle": "2021-02-04T13:16:51.394222Z",
     "shell.execute_reply": "2021-02-04T13:16:51.392728Z",
     "shell.execute_reply.started": "2021-02-04T13:16:51.225098Z"
    }
   },
   "outputs": [],
   "source": [
    "dict_token2term = df_dataset.explode('golden_tokens').reset_index(drop=True).set_index('golden_tokens').to_dict()['golden_terms']"
   ]
  },
  {
   "cell_type": "code",
   "execution_count": 84,
   "metadata": {
    "execution": {
     "iopub.execute_input": "2021-02-04T13:29:40.289566Z",
     "iopub.status.busy": "2021-02-04T13:29:40.289082Z",
     "iopub.status.idle": "2021-02-04T13:29:40.357668Z",
     "shell.execute_reply": "2021-02-04T13:29:40.356182Z",
     "shell.execute_reply.started": "2021-02-04T13:29:40.289522Z"
    }
   },
   "outputs": [],
   "source": [
    "open_file_json('../data/token2term.json','w',dict_token2term)"
   ]
  },
  {
   "cell_type": "code",
   "execution_count": 77,
   "metadata": {
    "execution": {
     "iopub.execute_input": "2021-02-04T13:16:51.470655Z",
     "iopub.status.busy": "2021-02-04T13:16:51.470247Z",
     "iopub.status.idle": "2021-02-04T13:16:51.508047Z",
     "shell.execute_reply": "2021-02-04T13:16:51.503559Z",
     "shell.execute_reply.started": "2021-02-04T13:16:51.470617Z"
    }
   },
   "outputs": [],
   "source": [
    "dict_term2token = df_dataset.set_index('golden_terms').to_dict()['golden_tokens']"
   ]
  },
  {
   "cell_type": "code",
   "execution_count": 85,
   "metadata": {
    "execution": {
     "iopub.execute_input": "2021-02-04T13:29:56.510452Z",
     "iopub.status.busy": "2021-02-04T13:29:56.509713Z",
     "iopub.status.idle": "2021-02-04T13:29:56.732214Z",
     "shell.execute_reply": "2021-02-04T13:29:56.731034Z",
     "shell.execute_reply.started": "2021-02-04T13:29:56.510407Z"
    }
   },
   "outputs": [],
   "source": [
    "open_file_json('../data/term2token.json','w',dict_term2token)"
   ]
  },
  {
   "cell_type": "code",
   "execution_count": 79,
   "metadata": {
    "execution": {
     "iopub.execute_input": "2021-02-04T13:16:51.740039Z",
     "iopub.status.busy": "2021-02-04T13:16:51.739649Z",
     "iopub.status.idle": "2021-02-04T13:16:51.777423Z",
     "shell.execute_reply": "2021-02-04T13:16:51.776217Z",
     "shell.execute_reply.started": "2021-02-04T13:16:51.740002Z"
    }
   },
   "outputs": [
    {
     "data": {
      "text/html": [
       "<div>\n",
       "<style scoped>\n",
       "    .dataframe tbody tr th:only-of-type {\n",
       "        vertical-align: middle;\n",
       "    }\n",
       "\n",
       "    .dataframe tbody tr th {\n",
       "        vertical-align: top;\n",
       "    }\n",
       "\n",
       "    .dataframe thead th {\n",
       "        text-align: right;\n",
       "    }\n",
       "</style>\n",
       "<table border=\"1\" class=\"dataframe\">\n",
       "  <thead>\n",
       "    <tr style=\"text-align: right;\">\n",
       "      <th></th>\n",
       "      <th>golden_terms</th>\n",
       "      <th>golden_tokens</th>\n",
       "    </tr>\n",
       "  </thead>\n",
       "  <tbody>\n",
       "    <tr>\n",
       "      <th>329</th>\n",
       "      <td>Back to School</td>\n",
       "      <td>[back, to, school]</td>\n",
       "    </tr>\n",
       "    <tr>\n",
       "      <th>6315</th>\n",
       "      <td>Come Back to the Five and Dime, Jimmy Dean, Ji...</td>\n",
       "      <td>[come, back, to, the, five, and, dime, jimmy, ...</td>\n",
       "    </tr>\n",
       "    <tr>\n",
       "      <th>7162</th>\n",
       "      <td>Back to the Future</td>\n",
       "      <td>[back, to, the, future]</td>\n",
       "    </tr>\n",
       "    <tr>\n",
       "      <th>7164</th>\n",
       "      <td>Back to the Future Part II</td>\n",
       "      <td>[back, to, the, future, part, ii]</td>\n",
       "    </tr>\n",
       "    <tr>\n",
       "      <th>7165</th>\n",
       "      <td>Back to the Future Part III</td>\n",
       "      <td>[back, to, the, future, part, iii]</td>\n",
       "    </tr>\n",
       "    <tr>\n",
       "      <th>8611</th>\n",
       "      <td>Major League, Back to the Minors</td>\n",
       "      <td>[major, league, back, to, the, minors]</td>\n",
       "    </tr>\n",
       "  </tbody>\n",
       "</table>\n",
       "</div>"
      ],
      "text/plain": [
       "                                           golden_terms  \\\n",
       "329                                      Back to School   \n",
       "6315  Come Back to the Five and Dime, Jimmy Dean, Ji...   \n",
       "7162                                 Back to the Future   \n",
       "7164                         Back to the Future Part II   \n",
       "7165                        Back to the Future Part III   \n",
       "8611                   Major League, Back to the Minors   \n",
       "\n",
       "                                          golden_tokens  \n",
       "329                                  [back, to, school]  \n",
       "6315  [come, back, to, the, five, and, dime, jimmy, ...  \n",
       "7162                            [back, to, the, future]  \n",
       "7164                  [back, to, the, future, part, ii]  \n",
       "7165                 [back, to, the, future, part, iii]  \n",
       "8611             [major, league, back, to, the, minors]  "
      ]
     },
     "execution_count": 79,
     "metadata": {},
     "output_type": "execute_result"
    }
   ],
   "source": [
    "df_dataset.loc[df_dataset.golden_terms.apply(lambda x: 'Back to' in x)]"
   ]
  },
  {
   "cell_type": "code",
   "execution_count": 81,
   "metadata": {
    "execution": {
     "iopub.execute_input": "2021-02-04T13:18:17.233213Z",
     "iopub.status.busy": "2021-02-04T13:18:17.232756Z",
     "iopub.status.idle": "2021-02-04T13:18:17.240158Z",
     "shell.execute_reply": "2021-02-04T13:18:17.238930Z",
     "shell.execute_reply.started": "2021-02-04T13:18:17.233172Z"
    }
   },
   "outputs": [
    {
     "data": {
      "text/plain": [
       "['back', 'to', 'the', 'future', 'part', 'ii']"
      ]
     },
     "execution_count": 81,
     "metadata": {},
     "output_type": "execute_result"
    }
   ],
   "source": [
    "dict_term2token['Back to the Future Part II']"
   ]
  },
  {
   "cell_type": "code",
   "execution_count": null,
   "metadata": {},
   "outputs": [],
   "source": []
  }
 ],
 "metadata": {
  "kernelspec": {
   "display_name": "Python 3",
   "language": "python",
   "name": "python3"
  },
  "language_info": {
   "codemirror_mode": {
    "name": "ipython",
    "version": 3
   },
   "file_extension": ".py",
   "mimetype": "text/x-python",
   "name": "python",
   "nbconvert_exporter": "python",
   "pygments_lexer": "ipython3",
   "version": "3.7.9"
  }
 },
 "nbformat": 4,
 "nbformat_minor": 4
}
