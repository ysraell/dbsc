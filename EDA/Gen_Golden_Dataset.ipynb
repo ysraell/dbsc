{
 "cells": [
  {
   "cell_type": "markdown",
   "metadata": {},
   "source": [
    "# Template \n",
    "\n",
    "- Author: Israel Oliveira [\\[e-mail\\]](mailto:'Israel%20Oliveira%20'<prof.israel@gmail.com>)"
   ]
  },
  {
   "cell_type": "code",
   "execution_count": 1,
   "metadata": {
    "execution": {
     "iopub.execute_input": "2021-02-03T23:33:13.093145Z",
     "iopub.status.busy": "2021-02-03T23:33:13.092699Z",
     "iopub.status.idle": "2021-02-03T23:33:13.134870Z",
     "shell.execute_reply": "2021-02-03T23:33:13.133847Z",
     "shell.execute_reply.started": "2021-02-03T23:33:13.093107Z"
    }
   },
   "outputs": [],
   "source": [
    "%load_ext watermark\n",
    "%config Completer.use_jedi = False"
   ]
  },
  {
   "cell_type": "code",
   "execution_count": 2,
   "metadata": {
    "execution": {
     "iopub.execute_input": "2021-02-03T23:33:13.265827Z",
     "iopub.status.busy": "2021-02-03T23:33:13.265343Z",
     "iopub.status.idle": "2021-02-03T23:33:14.747628Z",
     "shell.execute_reply": "2021-02-03T23:33:14.746549Z",
     "shell.execute_reply.started": "2021-02-03T23:33:13.265783Z"
    }
   },
   "outputs": [],
   "source": [
    "import re\n",
    "import nltk\n",
    "import string\n",
    "from nltk.corpus import stopwords\n",
    "from nltk.tokenize import TreebankWordTokenizer\n",
    "tokenizer = TreebankWordTokenizer()\n",
    "\n",
    "import pandas as pd\n",
    "import json"
   ]
  },
  {
   "cell_type": "code",
   "execution_count": 3,
   "metadata": {
    "execution": {
     "iopub.execute_input": "2021-02-03T23:33:14.764573Z",
     "iopub.status.busy": "2021-02-03T23:33:14.763914Z",
     "iopub.status.idle": "2021-02-03T23:33:16.266687Z",
     "shell.execute_reply": "2021-02-03T23:33:16.265577Z",
     "shell.execute_reply.started": "2021-02-03T23:33:14.764531Z"
    }
   },
   "outputs": [
    {
     "name": "stdout",
     "output_type": "stream",
     "text": [
      "Python implementation: CPython\n",
      "Python version       : 3.7.9\n",
      "IPython version      : 7.19.0\n",
      "\n",
      "Compiler    : GCC 8.3.0\n",
      "OS          : Linux\n",
      "Release     : 5.8.0-7630-generic\n",
      "Machine     : x86_64\n",
      "Processor   : \n",
      "CPU cores   : 8\n",
      "Architecture: 64bit\n",
      "\n",
      "Git hash: 1f1fb0a39af877f76c3c65a57dd36db29f6b1860\n",
      "\n",
      "Git repo: https://github.com/ysraell/dbsc.git\n",
      "\n",
      "Git branch: main\n",
      "\n",
      "nltk      : 3.5\n",
      "re        : 2.2.1\n",
      "numpy     : 1.19.5\n",
      "pandas    : 1.2.1\n",
      "ipywidgets: 7.6.3\n",
      "json      : 2.0.9\n",
      "sys       : 3.7.9 (default, Jan 12 2021, 17:26:22) \n",
      "[GCC 8.3.0]\n",
      "\n",
      "CPU\t: Intel(R) Xeon(R) CPU E3-1241 v3 @ 3.50GHz\n",
      "Mem:           31G\n",
      "Swap:         4.0G\n"
     ]
    }
   ],
   "source": [
    "# Run this cell before close.\n",
    "%watermark -d --iversion -b -r -g -m -v\n",
    "!cat /proc/cpuinfo |grep 'model name'|head -n 1 |sed -e 's/model\\ name/CPU/'\n",
    "!free -h |cut -d'i' -f1  |grep -v total"
   ]
  },
  {
   "cell_type": "code",
   "execution_count": 27,
   "metadata": {
    "execution": {
     "iopub.execute_input": "2021-02-03T23:41:42.430184Z",
     "iopub.status.busy": "2021-02-03T23:41:42.429659Z",
     "iopub.status.idle": "2021-02-03T23:41:42.458200Z",
     "shell.execute_reply": "2021-02-03T23:41:42.457188Z",
     "shell.execute_reply.started": "2021-02-03T23:41:42.430133Z"
    }
   },
   "outputs": [],
   "source": [
    "def prepr(*args,**kwargs):\n",
    "    return print(repr(*args,**kwargs))\n",
    "\n",
    "def strip_punctuation(s,join_str=''):\n",
    "    return join_str.join(c for c in s if c not in string.punctuation)\n",
    "\n",
    "def special2space(s):\n",
    "    return ''.join([c if c not in punctuation_new else ' ' for c in s ])\n",
    "\n",
    "# contractions remover\n",
    "contractions = re.compile(r\"'|-|\\\"\")\n",
    "# all non alphanumeric\n",
    "symbols = re.compile(r'(\\W+)', re.U)\n",
    "# single character removal\n",
    "singles = re.compile(r'(\\s\\S\\s)', re.I|re.U)\n",
    "# separators (any whitespace)\n",
    "seps = re.compile(r'\\s+')\n",
    "\n",
    "def clean_punkt_singles_contract(text):\n",
    "    # Removing non ASCII chars    \n",
    "    text = re.sub(r'[^\\x00-\\x7f]',r' ',text)\n",
    "    # contractions remover\n",
    "    text = contractions.sub('', text)\n",
    "    # all non alphanumeric\n",
    "    text = symbols.sub(r' \\1 ', text)\n",
    "    # separators (any whitespace)\n",
    "    text = seps.sub(' ', text)\n",
    "    return text\n",
    "\n",
    "def clean_text(text):\n",
    "    ## Remove punktuations and symbols\n",
    "    text = clean_punkt_singles_contract(text)\n",
    "    \n",
    "    '''Remove unwanted characters and extra spaces from the text'''\n",
    "    text = re.sub(\"'s\", '', text) \n",
    "    text = re.sub(r'\\n', ' ', text) \n",
    "    text = re.sub(r'[{}@,:*>()\\\\#%+=\\[\\]]','', text)\n",
    "    text = re.sub('a0','', text)\n",
    "    text = re.sub('\\'92t','\\'t', text)\n",
    "    text = re.sub('\\'92s','\\'s', text)\n",
    "    text = re.sub('\\'92m','\\'m', text)\n",
    "    text = re.sub('\\'92ll','\\'ll', text)\n",
    "    text = re.sub('\\'91','', text)\n",
    "    text = re.sub('\\'92','', text)\n",
    "    text = re.sub('\\'93','', text)\n",
    "    text = re.sub('\\'94','', text)\n",
    "    #text = re.sub('\\.','. ', text)\n",
    "    text = re.sub('\\!','! ', text)\n",
    "    text = re.sub('\\?','? ', text)\n",
    "    text = re.sub(' +',' ', text)\n",
    "    text = re.sub('_',' ', text)\n",
    "    text = re.sub('\\.',' ', text)\n",
    "\n",
    "    return text\n",
    "\n",
    "def proc_text(text, min_size_word = 1):\n",
    "    text = str(text)\n",
    "    tmp = tokenizer.tokenize(text)\n",
    "    tmp = [w for w in tmp if w not in string.punctuation]\n",
    "    tmp = [w for w in tmp if w not in stopwords.words('english')]\n",
    "    tmp = [w for w in tmp if len(w)>=min_size_word] \n",
    "    return [word.lower() for word in tmp if any(c.isalpha() for c in word)]"
   ]
  },
  {
   "cell_type": "code",
   "execution_count": 28,
   "metadata": {
    "execution": {
     "iopub.execute_input": "2021-02-03T23:41:51.318408Z",
     "iopub.status.busy": "2021-02-03T23:41:51.317996Z",
     "iopub.status.idle": "2021-02-03T23:41:52.019551Z",
     "shell.execute_reply": "2021-02-03T23:41:52.018197Z",
     "shell.execute_reply.started": "2021-02-03T23:41:51.318369Z"
    }
   },
   "outputs": [
    {
     "name": "stdout",
     "output_type": "stream",
     "text": [
      "actor2id.json  id2movie.json  movie_actor.csv  token2term.json\n",
      "casts.csv      movie2id.json  term2token.json\n"
     ]
    }
   ],
   "source": [
    "!ls ../data/"
   ]
  },
  {
   "cell_type": "code",
   "execution_count": 29,
   "metadata": {
    "execution": {
     "iopub.execute_input": "2021-02-03T23:41:52.814461Z",
     "iopub.status.busy": "2021-02-03T23:41:52.813934Z",
     "iopub.status.idle": "2021-02-03T23:41:52.891390Z",
     "shell.execute_reply": "2021-02-03T23:41:52.890082Z",
     "shell.execute_reply.started": "2021-02-03T23:41:52.814411Z"
    }
   },
   "outputs": [],
   "source": [
    "df_movie_actor = pd.read_csv('../data/movie_actor.csv')"
   ]
  },
  {
   "cell_type": "code",
   "execution_count": 30,
   "metadata": {
    "execution": {
     "iopub.execute_input": "2021-02-03T23:41:55.164833Z",
     "iopub.status.busy": "2021-02-03T23:41:55.164390Z",
     "iopub.status.idle": "2021-02-03T23:41:55.179867Z",
     "shell.execute_reply": "2021-02-03T23:41:55.178758Z",
     "shell.execute_reply.started": "2021-02-03T23:41:55.164794Z"
    }
   },
   "outputs": [],
   "source": [
    "dict_id2movie = df_movie_actor.Movie.drop_duplicates().reset_index(drop=True).to_dict()"
   ]
  },
  {
   "cell_type": "code",
   "execution_count": 31,
   "metadata": {
    "execution": {
     "iopub.execute_input": "2021-02-03T23:41:56.172700Z",
     "iopub.status.busy": "2021-02-03T23:41:56.172262Z",
     "iopub.status.idle": "2021-02-03T23:41:56.179669Z",
     "shell.execute_reply": "2021-02-03T23:41:56.178679Z",
     "shell.execute_reply.started": "2021-02-03T23:41:56.172663Z"
    }
   },
   "outputs": [],
   "source": [
    "dict_movie2id = {m:k for k,m in dict_id2movie.items()}"
   ]
  },
  {
   "cell_type": "code",
   "execution_count": 32,
   "metadata": {
    "execution": {
     "iopub.execute_input": "2021-02-03T23:41:56.561561Z",
     "iopub.status.busy": "2021-02-03T23:41:56.560782Z",
     "iopub.status.idle": "2021-02-03T23:41:56.572706Z",
     "shell.execute_reply": "2021-02-03T23:41:56.571327Z",
     "shell.execute_reply.started": "2021-02-03T23:41:56.561518Z"
    }
   },
   "outputs": [
    {
     "name": "stdout",
     "output_type": "stream",
     "text": [
      "Pygmalion\n",
      "0\n"
     ]
    }
   ],
   "source": [
    "print(dict_id2movie[0])\n",
    "print(dict_movie2id[dict_id2movie[0]])"
   ]
  },
  {
   "cell_type": "code",
   "execution_count": 33,
   "metadata": {
    "execution": {
     "iopub.execute_input": "2021-02-03T23:41:59.198617Z",
     "iopub.status.busy": "2021-02-03T23:41:59.197854Z",
     "iopub.status.idle": "2021-02-03T23:41:59.236739Z",
     "shell.execute_reply": "2021-02-03T23:41:59.235656Z",
     "shell.execute_reply.started": "2021-02-03T23:41:59.198566Z"
    }
   },
   "outputs": [],
   "source": [
    "df_movie_actor['movie_id'] = df_movie_actor.Movie.apply(lambda x: dict_movie2id[x])"
   ]
  },
  {
   "cell_type": "code",
   "execution_count": 34,
   "metadata": {
    "execution": {
     "iopub.execute_input": "2021-02-03T23:42:21.926846Z",
     "iopub.status.busy": "2021-02-03T23:42:21.926274Z",
     "iopub.status.idle": "2021-02-03T23:42:23.090454Z",
     "shell.execute_reply": "2021-02-03T23:42:23.089442Z",
     "shell.execute_reply.started": "2021-02-03T23:42:21.926797Z"
    }
   },
   "outputs": [],
   "source": [
    "dict_actor2movieid = df_movie_actor[['Actor','movie_id']].groupby('Actor').agg(list).to_dict()['movie_id']"
   ]
  },
  {
   "cell_type": "code",
   "execution_count": 35,
   "metadata": {
    "execution": {
     "iopub.execute_input": "2021-02-03T23:42:23.358120Z",
     "iopub.status.busy": "2021-02-03T23:42:23.357711Z",
     "iopub.status.idle": "2021-02-03T23:42:23.591741Z",
     "shell.execute_reply": "2021-02-03T23:42:23.590559Z",
     "shell.execute_reply.started": "2021-02-03T23:42:23.358082Z"
    }
   },
   "outputs": [],
   "source": [
    "with open('../data/id2movie.json','w') as f:\n",
    "    json.dump(dict_id2movie, f)\n",
    "\n",
    "with open('../data/movie2id.json','w') as f:\n",
    "    json.dump(dict_movie2id, f)\n",
    "    \n",
    "with open('../data/actor2id.json','w') as f:\n",
    "    json.dump(dict_actor2movieid, f)"
   ]
  },
  {
   "cell_type": "code",
   "execution_count": 36,
   "metadata": {
    "execution": {
     "iopub.execute_input": "2021-02-03T23:42:27.438977Z",
     "iopub.status.busy": "2021-02-03T23:42:27.438479Z",
     "iopub.status.idle": "2021-02-03T23:42:27.461855Z",
     "shell.execute_reply": "2021-02-03T23:42:27.460614Z",
     "shell.execute_reply.started": "2021-02-03T23:42:27.438930Z"
    }
   },
   "outputs": [],
   "source": [
    "terms = df_movie_actor.Movie.drop_duplicates().tolist() + df_movie_actor.Actor.drop_duplicates().tolist()"
   ]
  },
  {
   "cell_type": "code",
   "execution_count": 37,
   "metadata": {
    "execution": {
     "iopub.execute_input": "2021-02-03T23:42:28.266736Z",
     "iopub.status.busy": "2021-02-03T23:42:28.266311Z",
     "iopub.status.idle": "2021-02-03T23:42:43.224761Z",
     "shell.execute_reply": "2021-02-03T23:42:43.223572Z",
     "shell.execute_reply.started": "2021-02-03T23:42:28.266699Z"
    }
   },
   "outputs": [],
   "source": [
    "df_dataset = pd.DataFrame(zip(terms,map(proc_text,terms)),columns=['golden_terms','golden_tokens'])\n",
    "df_dataset = df_dataset.loc[df_dataset.golden_tokens.apply(lambda x: x != [])].reset_index(drop=True)"
   ]
  },
  {
   "cell_type": "code",
   "execution_count": 38,
   "metadata": {
    "execution": {
     "iopub.execute_input": "2021-02-03T23:42:53.424115Z",
     "iopub.status.busy": "2021-02-03T23:42:53.423574Z",
     "iopub.status.idle": "2021-02-03T23:42:53.588214Z",
     "shell.execute_reply": "2021-02-03T23:42:53.586913Z",
     "shell.execute_reply.started": "2021-02-03T23:42:53.424063Z"
    }
   },
   "outputs": [],
   "source": [
    "dict_token2term = df_dataset.explode('golden_tokens').reset_index(drop=True).set_index('golden_tokens').to_dict()['golden_terms']"
   ]
  },
  {
   "cell_type": "code",
   "execution_count": 39,
   "metadata": {
    "execution": {
     "iopub.execute_input": "2021-02-03T23:42:56.463817Z",
     "iopub.status.busy": "2021-02-03T23:42:56.463349Z",
     "iopub.status.idle": "2021-02-03T23:42:56.530989Z",
     "shell.execute_reply": "2021-02-03T23:42:56.529747Z",
     "shell.execute_reply.started": "2021-02-03T23:42:56.463769Z"
    }
   },
   "outputs": [],
   "source": [
    "with open('../data/token2term.json','w') as f:\n",
    "    json.dump(dict_token2term, f)"
   ]
  },
  {
   "cell_type": "code",
   "execution_count": 43,
   "metadata": {
    "execution": {
     "iopub.execute_input": "2021-02-03T23:49:23.047910Z",
     "iopub.status.busy": "2021-02-03T23:49:23.047400Z",
     "iopub.status.idle": "2021-02-03T23:49:23.079553Z",
     "shell.execute_reply": "2021-02-03T23:49:23.078310Z",
     "shell.execute_reply.started": "2021-02-03T23:49:23.047860Z"
    }
   },
   "outputs": [],
   "source": [
    "dict_term2token = df_dataset.set_index('golden_terms').to_dict()['golden_tokens']"
   ]
  },
  {
   "cell_type": "code",
   "execution_count": 44,
   "metadata": {
    "execution": {
     "iopub.execute_input": "2021-02-03T23:49:23.395099Z",
     "iopub.status.busy": "2021-02-03T23:49:23.394631Z",
     "iopub.status.idle": "2021-02-03T23:49:23.631947Z",
     "shell.execute_reply": "2021-02-03T23:49:23.628642Z",
     "shell.execute_reply.started": "2021-02-03T23:49:23.395047Z"
    }
   },
   "outputs": [],
   "source": [
    "with open('../data/term2token.json','w') as f:\n",
    "    json.dump(dict_term2token, f)"
   ]
  },
  {
   "cell_type": "code",
   "execution_count": null,
   "metadata": {},
   "outputs": [],
   "source": []
  }
 ],
 "metadata": {
  "kernelspec": {
   "display_name": "Python 3",
   "language": "python",
   "name": "python3"
  },
  "language_info": {
   "codemirror_mode": {
    "name": "ipython",
    "version": 3
   },
   "file_extension": ".py",
   "mimetype": "text/x-python",
   "name": "python",
   "nbconvert_exporter": "python",
   "pygments_lexer": "ipython3",
   "version": "3.7.9"
  }
 },
 "nbformat": 4,
 "nbformat_minor": 4
}
